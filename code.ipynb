{
 "cells": [
  {
   "cell_type": "markdown",
   "id": "faf02633-cd7d-41b7-b56f-f18df75cb920",
   "metadata": {},
   "source": [
    "# Import"
   ]
  },
  {
   "cell_type": "code",
   "execution_count": 1,
   "id": "13f187c8",
   "metadata": {},
   "outputs": [
    {
     "name": "stderr",
     "output_type": "stream",
     "text": [
      "2023-11-30 14:31:17.029114: I tensorflow/core/platform/cpu_feature_guard.cc:193] This TensorFlow binary is optimized with oneAPI Deep Neural Network Library (oneDNN) to use the following CPU instructions in performance-critical operations:  AVX2 AVX512F AVX512_VNNI FMA\n",
      "To enable them in other operations, rebuild TensorFlow with the appropriate compiler flags.\n",
      "2023-11-30 14:31:17.163250: I tensorflow/core/util/port.cc:104] oneDNN custom operations are on. You may see slightly different numerical results due to floating-point round-off errors from different computation orders. To turn them off, set the environment variable `TF_ENABLE_ONEDNN_OPTS=0`.\n",
      "2023-11-30 14:31:18.489344: W tensorflow/compiler/xla/stream_executor/platform/default/dso_loader.cc:64] Could not load dynamic library 'libnvinfer.so.7'; dlerror: libnvinfer.so.7: cannot open shared object file: No such file or directory; LD_LIBRARY_PATH: /home/elicer/.local/lib/python3.10/site-packages/cv2/../../lib64:/usr/local/nvidia/lib:/usr/local/nvidia/lib64\n",
      "2023-11-30 14:31:18.489409: W tensorflow/compiler/xla/stream_executor/platform/default/dso_loader.cc:64] Could not load dynamic library 'libnvinfer_plugin.so.7'; dlerror: libnvinfer_plugin.so.7: cannot open shared object file: No such file or directory; LD_LIBRARY_PATH: /home/elicer/.local/lib/python3.10/site-packages/cv2/../../lib64:/usr/local/nvidia/lib:/usr/local/nvidia/lib64\n",
      "2023-11-30 14:31:18.489417: W tensorflow/compiler/tf2tensorrt/utils/py_utils.cc:38] TF-TRT Warning: Cannot dlopen some TensorRT libraries. If you would like to use Nvidia GPU with TensorRT, please make sure the missing libraries mentioned above are installed properly.\n"
     ]
    }
   ],
   "source": [
    "import os\n",
    "import cv2\n",
    "import numpy as np\n",
    "import pandas as pd\n",
    "from facenet_pytorch import MTCNN\n",
    "from tqdm import tqdm\n",
    "from glob import glob\n",
    "from IPython import display\n",
    "from matplotlib import pyplot as plt\n",
    "from IPython.display import Image, display\n",
    "import os\n",
    "import pandas as pd\n",
    "import matplotlib.pyplot as plt\n",
    "import keras\n",
    "import tensorflow as tf\n",
    "from sklearn.model_selection import train_test_split\n",
    "from sklearn.utils import shuffle\n",
    "from keras.preprocessing.image import ImageDataGenerator\n",
    "from keras.models import Sequential, Model\n",
    "from keras.layers import Dense, Flatten, Dropout\n",
    "from keras.optimizers import Adam\n",
    "from keras.callbacks import ModelCheckpoint, EarlyStopping\n",
    "from keras.applications.xception import Xception"
   ]
  },
  {
   "cell_type": "markdown",
   "id": "f3c88cb6-928f-4eed-af08-c24825ba5528",
   "metadata": {},
   "source": [
    "# Data Read\n",
    "- 데이터는 대회장에서 주어진 /mnt/elice/dataset 디렉토리에 있는 REAL, FAKE가 구분되있는 약 10000개의 영상으로 구성\n",
    "- 각 영상을 프레임 단위로 분할한 후 모델 훈련을 위해 얼굴부분만을 crop"
   ]
  },
  {
   "cell_type": "code",
   "execution_count": null,
   "id": "d62a5dbd-968a-4bc7-a25c-7d1b11112ff2",
   "metadata": {},
   "outputs": [],
   "source": []
  },
  {
   "cell_type": "code",
   "execution_count": 2,
   "id": "29e174b9",
   "metadata": {},
   "outputs": [],
   "source": [
    "TRAIN_PATH = '/mnt/elice/dataset/train'\n",
    "TEST_PATH = '/mnt/elice/dataset/test'\n",
    "train_files = sorted(glob(TRAIN_PATH+'/*/*'))\n",
    "real_files = sorted(glob(TRAIN_PATH+'/real/*'))\n",
    "fake_files = sorted(glob(TRAIN_PATH+'/fake/*'))\n",
    "labels = [label.split('/')[-2] for label in train_files]\n",
    "real_label = [label.split('/')[-2] for label in real_files]\n",
    "fake_label = [label.split('/')[-2] for label in fake_files]"
   ]
  },
  {
   "cell_type": "code",
   "execution_count": 12,
   "id": "5b82b50a",
   "metadata": {},
   "outputs": [],
   "source": [
    "def chimac(videos, num, label):\n",
    "    count = 0\n",
    "    file = videos.split(\"/\")[-1]\n",
    "    fileName = file.split(\".\")[0]\n",
    "    mtcnn = MTCNN(margin=50, keep_all=True, post_process=True, device='cuda:0', thresholds=[.9, .9, .9])\n",
    "    v_cap = cv2.VideoCapture(videos)\n",
    "    v_len = int(v_cap.get(cv2.CAP_PROP_FRAME_COUNT))\n",
    "    \n",
    "    # 디렉터리가 없으면 생성\n",
    "    output_dir = f'/home/elicer/{label}/'\n",
    "    os.makedirs(output_dir, exist_ok=True)\n",
    "\n",
    "    for i in range(v_len):\n",
    "        success = v_cap.grab()\n",
    "        if i % (v_len//30) == 0:\n",
    "            success, frame = v_cap.retrieve()\n",
    "        else:\n",
    "            continue\n",
    "        if not success:\n",
    "            continue\n",
    "        frame = cv2.cvtColor(frame, cv2.COLOR_BGR2RGB)\n",
    "        \n",
    "        # 얼굴 감지 및 저장\n",
    "        final_dir = f'{output_dir}/{num}'\n",
    "        os.makedirs(final_dir, exist_ok=True)\n",
    "        face = mtcnn(frame, save_path=f'{final_dir}/{fileName}{count}.jpg')\n",
    "        count += 1\n",
    "\n",
    "    v_cap.release()\n",
    "    "
   ]
  },
  {
   "cell_type": "code",
   "execution_count": 13,
   "id": "b4522be1",
   "metadata": {},
   "outputs": [
    {
     "name": "stderr",
     "output_type": "stream",
     "text": [
      "진행 중: 100%|██████████| 3500/3500 [1:56:38<00:00,  2.00s/it]  \n"
     ]
    }
   ],
   "source": [
    "from tqdm import tqdm\n",
    "import time\n",
    "\n",
    "for vid_no in tqdm(range(len(real_files)), desc='진행 중'):  \n",
    "    vid = real_files[vid_no]  \n",
    "    chimac(vid, f'r{vid_no}', 'real_data')\n"
   ]
  },
  {
   "cell_type": "code",
   "execution_count": 14,
   "id": "d2d476a3",
   "metadata": {
    "scrolled": true
   },
   "outputs": [
    {
     "name": "stderr",
     "output_type": "stream",
     "text": [
      "진행 중: 100%|██████████| 3500/3500 [1:23:05<00:00,  1.42s/it]\n"
     ]
    }
   ],
   "source": [
    "for vid_no in tqdm(range(len(fake_files)), desc='진행 중'):  \n",
    "    vid = fake_files[vid_no]\n",
    "    chimac(vid, f'f{vid_no}', 'fake_data')\n",
    "    \n"
   ]
  },
  {
   "cell_type": "code",
   "execution_count": 3,
   "id": "54a799e8",
   "metadata": {},
   "outputs": [],
   "source": [
    "real_train_dir = '/home/elicer/real_data/'\n",
    "\n",
    "real_train = [real_train_dir + x+'/' for x in sorted(os.listdir(real_train_dir))]\n",
    "r_train = []\n",
    "for rt in real_train:\n",
    "    r_train = r_train+[rt + x for x in sorted(os.listdir(rt))]\n",
    "\n",
    "fake_train_dir = '/home/elicer/fake_data/'\n",
    "fake_train = [fake_train_dir + x+'/' for x in sorted(os.listdir(fake_train_dir))]\n",
    "f_train = []\n",
    "for ft in fake_train:\n",
    "    f_train = f_train+[ft + x for x in sorted(os.listdir(ft))]\n",
    "\n"
   ]
  },
  {
   "cell_type": "markdown",
   "id": "8cbb84fd-8933-4771-ad98-ebae652dd341",
   "metadata": {},
   "source": [
    "# Train/Test Split"
   ]
  },
  {
   "cell_type": "code",
   "execution_count": 4,
   "id": "d79b5fc6",
   "metadata": {},
   "outputs": [
    {
     "data": {
      "text/plain": [
       "180000"
      ]
     },
     "execution_count": 4,
     "metadata": {},
     "output_type": "execute_result"
    }
   ],
   "source": [
    "train_path = r_train[:90000] + f_train[:90000]\n",
    "train_label = ['0']*90000 + ['1']*90000\n",
    "train_df = pd.DataFrame({'path': train_path, 'label':train_label})\n",
    "train_df = shuffle(train_df)\n",
    "len(train_df)"
   ]
  },
  {
   "cell_type": "code",
   "execution_count": 5,
   "id": "10bdcc64",
   "metadata": {},
   "outputs": [
    {
     "data": {
      "text/plain": [
       "30405"
      ]
     },
     "execution_count": 5,
     "metadata": {},
     "output_type": "execute_result"
    }
   ],
   "source": [
    "val_path = r_train[90000:] + f_train[90000:]\n",
    "val_label = ['0']*(len(r_train[90000:])) + ['1']*(len(f_train[90000:]))\n",
    "val_df = pd.DataFrame({'path': val_path, 'label':val_label})\n",
    "val_df = shuffle(val_df)\n",
    "len(val_df)"
   ]
  },
  {
   "cell_type": "markdown",
   "id": "a0566723-1a25-4d24-97b3-42e34a85e430",
   "metadata": {},
   "source": [
    "# Data Augmentation\n",
    "\n",
    "- 과적합 방지 및 데이터 다양성을 위한 작업\n",
    "- 이미지 회전, 반전, 채도 변경, 크기 스케일링 등 여러 변환 방식이 들어가 있다."
   ]
  },
  {
   "cell_type": "code",
   "execution_count": 6,
   "id": "0eb9eb1e",
   "metadata": {},
   "outputs": [],
   "source": [
    "train_datagen = ImageDataGenerator(\n",
    "    rotation_range=270,\n",
    "    width_shift_range=0.2,\n",
    "    height_shift_range=0.2,\n",
    "    horizontal_flip=True,\n",
    "    vertical_flip=True,\n",
    "    rescale=1/255,\n",
    "    brightness_range=(0.5, 1.5),\n",
    "    zoom_range=[0.8, 1.2],\n",
    "    channel_shift_range=50.0  # 채도 변환 추가\n",
    ")"
   ]
  },
  {
   "cell_type": "code",
   "execution_count": 7,
   "id": "03c49e02",
   "metadata": {},
   "outputs": [],
   "source": [
    "val_datagen = ImageDataGenerator(rescale = 1/255)"
   ]
  },
  {
   "cell_type": "code",
   "execution_count": 8,
   "id": "39d6b457",
   "metadata": {},
   "outputs": [
    {
     "name": "stdout",
     "output_type": "stream",
     "text": [
      "Found 180000 validated image filenames belonging to 2 classes.\n",
      "Found 30405 validated image filenames belonging to 2 classes.\n"
     ]
    }
   ],
   "source": [
    "IM_HEIGHT = 160\n",
    "IM_WIDTH = 160\n",
    "\n",
    "train_generator = train_datagen.flow_from_dataframe(train_df, x_col=\"path\", y_col=\"label\", target_size=(IM_HEIGHT, IM_WIDTH),\n",
    "                                                   batch_size=16, class_mode='binary', shuffle=True)\n",
    "\n",
    "val_generator = val_datagen.flow_from_dataframe(val_df, x_col=\"path\", y_col=\"label\", target_size=(IM_HEIGHT, IM_WIDTH),\n",
    "                                                   batch_size=16, class_mode='binary', shuffle=True)"
   ]
  },
  {
   "cell_type": "markdown",
   "id": "6d7d60ca-3711-46f1-ab17-67ddfc84deec",
   "metadata": {},
   "source": [
    "# Create Model, training\n",
    "- Xception 구조를 갖는 Model 생성\n",
    "- epoch의 변화에 따른 validation set의 loss, accuracy 변화에 집중"
   ]
  },
  {
   "cell_type": "code",
   "execution_count": 10,
   "id": "4255fd89",
   "metadata": {},
   "outputs": [
    {
     "name": "stderr",
     "output_type": "stream",
     "text": [
      "2023-11-30 14:31:44.331089: I tensorflow/core/platform/cpu_feature_guard.cc:193] This TensorFlow binary is optimized with oneAPI Deep Neural Network Library (oneDNN) to use the following CPU instructions in performance-critical operations:  AVX2 AVX512F AVX512_VNNI FMA\n",
      "To enable them in other operations, rebuild TensorFlow with the appropriate compiler flags.\n",
      "2023-11-30 14:31:45.884477: I tensorflow/core/common_runtime/gpu/gpu_device.cc:1613] Created device /job:localhost/replica:0/task:0/device:GPU:0 with 17799 MB memory:  -> device: 0, name: NVIDIA A100 80GB PCIe MIG 1g.20gb, pci bus id: 0000:e3:00.0, compute capability: 8.0\n"
     ]
    }
   ],
   "source": [
    "Xception = Xception(input_shape=(IM_HEIGHT, IM_WIDTH, 3),\n",
    "                     include_top=False, weights='imagenet')"
   ]
  },
  {
   "cell_type": "code",
   "execution_count": 11,
   "id": "9ef8a33b",
   "metadata": {},
   "outputs": [
    {
     "name": "stderr",
     "output_type": "stream",
     "text": [
      "/home/elicer/.local/lib/python3.10/site-packages/keras/optimizers/optimizer_v2/adam.py:117: UserWarning: The `lr` argument is deprecated, use `learning_rate` instead.\n",
      "  super().__init__(name, **kwargs)\n"
     ]
    }
   ],
   "source": [
    "model = Sequential()\n",
    "model.add(Xception)\n",
    "model.add(Flatten())\n",
    "model.add(Dense(512, activation=\"relu\"))\n",
    "model.add(Dropout(0.5))\n",
    "model.add(Dense(1, activation=\"sigmoid\"))\n",
    "\n",
    "model.compile(loss='binary_crossentropy', optimizer=Adam(lr=.0001), metrics=['acc'])\n",
    "\n",
    "model_path =\"./model/Xception-{epoch:02d}-{val_loss:.4f}.h5\"\n",
    "checkpoint = ModelCheckpoint(filepath=model_path, monitor='val_loss', verbose=1, save_best_only=True)\n",
    "early_stopping = EarlyStopping(monitor='val_loss', patience=5)"
   ]
  },
  {
   "cell_type": "code",
   "execution_count": 12,
   "id": "e830ff4c",
   "metadata": {},
   "outputs": [
    {
     "name": "stdout",
     "output_type": "stream",
     "text": [
      "Model: \"sequential\"\n",
      "_________________________________________________________________\n",
      " Layer (type)                Output Shape              Param #   \n",
      "=================================================================\n",
      " xception (Functional)       (None, 5, 5, 2048)        20861480  \n",
      "                                                                 \n",
      " flatten (Flatten)           (None, 51200)             0         \n",
      "                                                                 \n",
      " dense (Dense)               (None, 512)               26214912  \n",
      "                                                                 \n",
      " dropout (Dropout)           (None, 512)               0         \n",
      "                                                                 \n",
      " dense_1 (Dense)             (None, 1)                 513       \n",
      "                                                                 \n",
      "=================================================================\n",
      "Total params: 47,076,905\n",
      "Trainable params: 47,022,377\n",
      "Non-trainable params: 54,528\n",
      "_________________________________________________________________\n"
     ]
    }
   ],
   "source": [
    "model.summary()"
   ]
  },
  {
   "cell_type": "code",
   "execution_count": 13,
   "id": "db13d464",
   "metadata": {},
   "outputs": [
    {
     "name": "stderr",
     "output_type": "stream",
     "text": [
      "/tmp/ipykernel_799023/1007670974.py:1: UserWarning: `Model.fit_generator` is deprecated and will be removed in a future version. Please use `Model.fit`, which supports generators.\n",
      "  history = model.fit_generator(train_generator, epochs=10, validation_data = val_generator, callbacks=[checkpoint, early_stopping])\n"
     ]
    },
    {
     "name": "stdout",
     "output_type": "stream",
     "text": [
      "Epoch 1/10\n"
     ]
    },
    {
     "name": "stderr",
     "output_type": "stream",
     "text": [
      "2023-11-30 14:32:08.969111: I tensorflow/compiler/xla/stream_executor/cuda/cuda_dnn.cc:428] Loaded cuDNN version 8500\n",
      "2023-11-30 14:32:11.221490: I tensorflow/compiler/xla/stream_executor/cuda/cuda_blas.cc:630] TensorFloat-32 will be used for the matrix multiplication. This will only be logged once.\n"
     ]
    },
    {
     "name": "stdout",
     "output_type": "stream",
     "text": [
      "11250/11250 [==============================] - ETA: 0s - loss: 0.2092 - acc: 0.9151\n",
      "Epoch 1: val_loss improved from inf to 0.16036, saving model to ./model/Xception-01-0.1604.h5\n",
      "11250/11250 [==============================] - 1284s 113ms/step - loss: 0.2092 - acc: 0.9151 - val_loss: 0.1604 - val_acc: 0.9359\n",
      "Epoch 2/10\n",
      " 5363/11250 [=============>................] - ETA: 10:38 - loss: 0.1222 - acc: 0.9540"
     ]
    }
   ],
   "source": [
    "history = model.fit_generator(train_generator, epochs=10, validation_data = val_generator, callbacks=[checkpoint, early_stopping])"
   ]
  },
  {
   "cell_type": "code",
   "execution_count": 14,
   "id": "ee4c9f54",
   "metadata": {},
   "outputs": [
    {
     "data": {
      "image/png": "[encoded data removed]",
      "text/plain": [
       "<Figure size 640x480 with 1 Axes>"
      ]
     },
     "metadata": {},
     "output_type": "display_data"
    }
   ],
   "source": [
    "plt.plot(history.history['loss'])\n",
    "plt.plot(history.history['val_loss'])\n",
    "plt.plot(history.history['acc'])\n",
    "plt.plot(history.history['val_acc'])\n",
    "plt.title('model loss')\n",
    "plt.ylabel('loss')\n",
    "plt.xlabel('epoch')\n",
    "plt.legend(['loss', 'val_loss', 'acc', 'val_acc'], loc='upper left')\n",
    "plt.show()"
   ]
  },
  {
   "cell_type": "code",
   "execution_count": 17,
   "id": "f403f8d1",
   "metadata": {},
   "outputs": [
    {
     "data": {
      "text/plain": [
       "[0.16035529971122742,\n",
       " 0.18683487176895142,\n",
       " 0.14768561720848083,\n",
       " 0.18708598613739014,\n",
       " 0.14134538173675537,\n",
       " 0.14373096823692322,\n",
       " 0.2481893002986908,\n",
       " 0.17163951694965363,\n",
       " 0.2683672308921814,\n",
       " 0.1868884414434433]"
      ]
     },
     "execution_count": 17,
     "metadata": {},
     "output_type": "execute_result"
    }
   ],
   "source": [
    "history.history['val_loss']"
   ]
  },
  {
   "cell_type": "markdown",
   "id": "ef0e3439-0354-4ba5-ab0f-88387854f99c",
   "metadata": {},
   "source": [
    "# Load Model"
   ]
  },
  {
   "cell_type": "code",
   "execution_count": 18,
   "id": "1bf09489",
   "metadata": {},
   "outputs": [
    {
     "data": {
      "text/plain": [
       "'/mnt/elice/dataset/test/26ceb386459241b38dfb120bd099919b.mp4'"
      ]
     },
     "execution_count": 18,
     "metadata": {},
     "output_type": "execute_result"
    }
   ],
   "source": [
    "test_movie_files = sorted(glob(TEST_PATH + '/*'))\n",
    "# test_movie_files[440]\n",
    "test_movie_files[441]"
   ]
  },
  {
   "cell_type": "code",
   "execution_count": 19,
   "id": "8b477d02",
   "metadata": {},
   "outputs": [],
   "source": [
    "from keras.models import load_model"
   ]
  },
  {
   "cell_type": "code",
   "execution_count": 20,
   "id": "601ea5a3",
   "metadata": {},
   "outputs": [
    {
     "name": "stdout",
     "output_type": "stream",
     "text": [
      "Model: \"sequential\"\n",
      "_________________________________________________________________\n",
      " Layer (type)                Output Shape              Param #   \n",
      "=================================================================\n",
      " xception (Functional)       (None, 5, 5, 2048)        20861480  \n",
      "                                                                 \n",
      " flatten (Flatten)           (None, 51200)             0         \n",
      "                                                                 \n",
      " dense (Dense)               (None, 512)               26214912  \n",
      "                                                                 \n",
      " dropout (Dropout)           (None, 512)               0         \n",
      "                                                                 \n",
      " dense_1 (Dense)             (None, 1)                 513       \n",
      "                                                                 \n",
      "=================================================================\n",
      "Total params: 47,076,905\n",
      "Trainable params: 47,022,377\n",
      "Non-trainable params: 54,528\n",
      "_________________________________________________________________\n"
     ]
    }
   ],
   "source": [
    "model = load_model(\"/home/elicer/model/Xception-05-0.1413.h5\")\n",
    "model.summary()"
   ]
  },
  {
   "cell_type": "markdown",
   "id": "8c61aff3-f8af-455d-82cc-7cc5295e66f6",
   "metadata": {},
   "source": [
    "# Predict Test Video\n",
    "- directory에 있는 test video의 REAL, FAKE 예측\n",
    "- 프레임 별로 REAL, FAKE를 판단하며 한 영상 프레임들의 결과의 다수결로 영상의 REAL, FAKE 판단\n",
    "- submission dataframe을 통해 총 3000개의 영상의 REAL, FAKE이 판단되었음을 보여줌."
   ]
  },
  {
   "cell_type": "code",
   "execution_count": null,
   "id": "25b872b7-4c56-4d96-b1ed-d62b15916591",
   "metadata": {},
   "outputs": [],
   "source": [
    "%%time\n",
    "\n",
    "from tqdm import tqdm\n",
    "\n",
    "detector = MTCNN(margin=50, keep_all=False, post_process=False, device='cuda:0', thresholds=[.3, .3, .3]) #변수 조정\n",
    "vid_num = 0\n",
    "scores = []\n",
    "filenames = []\n",
    "zero_count_list = []\n",
    "\n",
    "for vid in tqdm(test_movie_files[:], desc=\"Processing videos\", unit=\"video\"):\n",
    "\n",
    "    predict_all = []\n",
    "    count = 0\n",
    "    file_name_mp4 = vid.split('/')[-1]\n",
    "    file_name = file_name_mp4.split('.')[0]\n",
    "    v_cap = cv2.VideoCapture(vid)\n",
    "    v_len = int(v_cap.get(cv2.CAP_PROP_FRAME_COUNT))\n",
    "    \n",
    "    for frm in range(v_len):\n",
    "        success = v_cap.grab()\n",
    "        if frm % (v_len // 20) == 0:\n",
    "            success, frame = v_cap.retrieve()\n",
    "            if not success:\n",
    "                continue\n",
    "                \n",
    "           # 전처리부분추가\n",
    "        \n",
    "            frame = cv2.cvtColor(frame, cv2.COLOR_BGR2RGB)\n",
    "            frame = detector(frame)\n",
    "            if frame is not None:\n",
    "                frame = np.transpose(frame, (1, 2, 0))\n",
    "                frame = np.array(cv2.resize(np.array(frame), (160, 160)))\n",
    "                frame = (frame.flatten() / 255.0).reshape(-1, 160, 160, 3)\n",
    "                count = count + frame.shape[0]\n",
    "                predict = model.predict(frame)\n",
    "                predict_all.append(predict)\n",
    "            else:\n",
    "                continue\n",
    "        else:\n",
    "            continue\n",
    "    if count == 0:\n",
    "        zero_count_list.append(file_name)\n",
    "        print(file_name)\n",
    "        \n",
    "        count += 1\n",
    "\n",
    "    predict_all.sort()\n",
    "    final_pred = sum(predict_all[:]) / (count)\n",
    "    if final_pred == 1:\n",
    "        final_pred = [[0.99]]\n",
    "    elif final_pred == 0:\n",
    "        final_pred = [[0.01]]\n",
    "        \n",
    "    scores.append(final_pred[0][0])\n",
    "    print(\"score:\", final_pred[0][0] * 100)\n",
    "\n",
    "    filenames.append(file_name_mp4)\n",
    "\n",
    "v_cap.release()"
   ]
  },
  {
   "cell_type": "code",
   "execution_count": 29,
   "id": "bc090828",
   "metadata": {},
   "outputs": [],
   "source": [
    "df = pd.DataFrame({'path':filenames, 'label':scores}) \n",
    "\n",
    "df.to_csv('score.csv', index=False)\n",
    "\n",
    "df = pd.read_csv('/home/elicer/score.csv')\n",
    "\n",
    "submission = df"
   ]
  },
  {
   "cell_type": "code",
   "execution_count": 31,
   "id": "001ed520",
   "metadata": {},
   "outputs": [],
   "source": [
    "submission[\"label\"]=np.where(submission[\"label\"]>=0.5, 1, 0)"
   ]
  },
  {
   "cell_type": "code",
   "execution_count": 33,
   "id": "d11101ac",
   "metadata": {},
   "outputs": [
    {
     "name": "stdout",
     "output_type": "stream",
     "text": [
      "                                      path label\n",
      "0     000ee59f529d4d069edee33b887bb2ce.mp4  real\n",
      "1     0018214f560f4ba3871dd9218f55dd48.mp4  real\n",
      "2     00241f732f934e2b807cf493d02ff80b.mp4  fake\n",
      "3     00473872f36940a0bfe3f3dfd7667449.mp4  real\n",
      "4     004d9c5bee68438397889c71a32a05d5.mp4  real\n",
      "...                                    ...   ...\n",
      "2995  ffa0960e6c154c478b6b1781bda78e08.mp4  real\n",
      "2996  ffa34ed0124f459885b99401fc2f706c.mp4  real\n",
      "2997  ffd9e5c5e71a4c33a0b63d3676d15d52.mp4  real\n",
      "2998  ffde5e9809f34b43ae7decca08f37d0c.mp4  fake\n",
      "2999  fff4f11155264d809045f5de16bd2169.mp4  fake\n",
      "\n",
      "[3000 rows x 2 columns]\n"
     ]
    }
   ],
   "source": [
    "submission['label'] = submission['label'].apply(lambda x: 'fake' if x == 1 else 'real')\n",
    "print(submission)"
   ]
  }
 ],
 "metadata": {
  "kernelspec": {
   "display_name": "Python 3 (ipykernel)",
   "language": "python",
   "name": "python3"
  },
  "language_info": {
   "codemirror_mode": {
    "name": "ipython",
    "version": 3
   },
   "file_extension": ".py",
   "mimetype": "text/x-python",
   "name": "python",
   "nbconvert_exporter": "python",
   "pygments_lexer": "ipython3",
   "version": "3.10.13"
  }
 },
 "nbformat": 4,
 "nbformat_minor": 5
}
